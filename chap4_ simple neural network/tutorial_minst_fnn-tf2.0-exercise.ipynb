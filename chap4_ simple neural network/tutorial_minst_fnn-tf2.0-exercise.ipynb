{
 "cells": [
  {
   "cell_type": "markdown",
   "metadata": {},
   "source": [
    "## 准备数据"
   ]
  },
  {
   "cell_type": "code",
   "execution_count": 1,
   "metadata": {},
   "outputs": [],
   "source": [
    "import os\n",
    "import numpy as np\n",
    "import tensorflow as tf\n",
    "from tensorflow import keras\n",
    "from tensorflow.keras import layers, optimizers, datasets\n",
    "\n",
    "os.environ['TF_CPP_MIN_LOG_LEVEL'] = '2'  # or any {'0', '1', '2'}\n",
    "\n",
    "def mnist_dataset():\n",
    "    (x, y), (x_test, y_test) = datasets.mnist.load_data()\n",
    "    #normalize\n",
    "    x = x/255.0\n",
    "    x_test = x_test/255.0\n",
    "    \n",
    "    return (x, y), (x_test, y_test)"
   ]
  },
  {
   "cell_type": "code",
   "execution_count": 2,
   "metadata": {},
   "outputs": [
    {
     "name": "stdout",
     "output_type": "stream",
     "text": [
      "[(1, 'a'), (2, 'b'), (3, 'c'), (4, 'd')]\n"
     ]
    }
   ],
   "source": [
    "print(list(zip([1, 2, 3, 4], ['a', 'b', 'c', 'd'])))"
   ]
  },
  {
   "cell_type": "markdown",
   "metadata": {},
   "source": [
    "## 建立模型"
   ]
  },
  {
   "cell_type": "code",
   "execution_count": 3,
   "metadata": {},
   "outputs": [],
   "source": [
    "class myModel:\n",
    "    def __init__(self):\n",
    "        ####################\n",
    "        '''声明模型对应的参数'''\n",
    "        ####################\n",
    "        #一个隐藏层的ReLU神经网络\n",
    "        self.W1 = tf.Variable(tf.random.normal([784, 128], stddev=0.1))\n",
    "        self.b1 = tf.Variable(tf.zeros([128]))\n",
    "\n",
    "        self.W2 = tf.Variable(tf.random.normal([128, 10], stddev=0.1))\n",
    "        self.b2 = tf.Variable(tf.zeros([10]))\n",
    "    def __call__(self, x):\n",
    "        ####################\n",
    "        '''实现模型函数体，返回未归一化的logits'''\n",
    "        ####################\n",
    "        x = tf.reshape(x, [-1, 784])\n",
    "        h1 = tf.nn.relu(tf.matmul(x, self.W1) + self.b1)\n",
    "        logits = tf.matmul(h1, self.W2) + self.b2\n",
    "        return logits\n",
    "        \n",
    "model = myModel()\n",
    "\n",
    "optimizer = optimizers.Adam()"
   ]
  },
  {
   "cell_type": "markdown",
   "metadata": {},
   "source": [
    "## 计算 loss"
   ]
  },
  {
   "cell_type": "code",
   "execution_count": 4,
   "metadata": {},
   "outputs": [],
   "source": [
    "@tf.function\n",
    "def compute_loss(logits, labels):\n",
    "    return tf.reduce_mean(\n",
    "        tf.nn.sparse_softmax_cross_entropy_with_logits(\n",
    "            logits=logits, labels=labels))\n",
    "\n",
    "@tf.function\n",
    "def compute_accuracy(logits, labels):\n",
    "    predictions = tf.argmax(logits, axis=1)\n",
    "    return tf.reduce_mean(tf.cast(tf.equal(predictions, labels), tf.float32))\n",
    "\n",
    "@tf.function\n",
    "def train_one_step(model, optimizer, x, y):\n",
    "    with tf.GradientTape() as tape:\n",
    "        logits = model(x)\n",
    "        loss = compute_loss(logits, y)\n",
    "\n",
    "    # compute gradient\n",
    "    trainable_vars = [model.W1, model.W2, model.b1, model.b2]\n",
    "    grads = tape.gradient(loss, trainable_vars)\n",
    "    for g, v in zip(grads, trainable_vars):\n",
    "        v.assign_sub(0.01*g)\n",
    "\n",
    "    accuracy = compute_accuracy(logits, y)\n",
    "\n",
    "    # loss and accuracy is scalar tensor\n",
    "    return loss, accuracy\n",
    "\n",
    "@tf.function\n",
    "def test(model, x, y):\n",
    "    logits = model(x)\n",
    "    loss = compute_loss(logits, y)\n",
    "    accuracy = compute_accuracy(logits, y)\n",
    "    return loss, accuracy"
   ]
  },
  {
   "cell_type": "markdown",
   "metadata": {},
   "source": [
    "## 实际训练"
   ]
  },
  {
   "cell_type": "code",
   "execution_count": 5,
   "metadata": {},
   "outputs": [
    {
     "name": "stdout",
     "output_type": "stream",
     "text": [
      "epoch 0 : loss 2.4909747 ; accuracy 0.1024\n",
      "epoch 1 : loss 2.4706593 ; accuracy 0.10455\n",
      "epoch 2 : loss 2.4514265 ; accuracy 0.10643333\n",
      "epoch 3 : loss 2.433157 ; accuracy 0.10873333\n",
      "epoch 4 : loss 2.4157531 ; accuracy 0.11071666\n",
      "epoch 5 : loss 2.3991334 ; accuracy 0.113416664\n",
      "epoch 6 : loss 2.3832228 ; accuracy 0.11661667\n",
      "epoch 7 : loss 2.367953 ; accuracy 0.119383335\n",
      "epoch 8 : loss 2.353273 ; accuracy 0.12228333\n",
      "epoch 9 : loss 2.3391314 ; accuracy 0.12548333\n",
      "epoch 10 : loss 2.3254838 ; accuracy 0.1291\n",
      "epoch 11 : loss 2.3122907 ; accuracy 0.13268334\n",
      "epoch 12 : loss 2.2995152 ; accuracy 0.1358\n",
      "epoch 13 : loss 2.287124 ; accuracy 0.13941666\n",
      "epoch 14 : loss 2.2750893 ; accuracy 0.14325\n",
      "epoch 15 : loss 2.2633843 ; accuracy 0.14753333\n",
      "epoch 16 : loss 2.2519848 ; accuracy 0.1515\n",
      "epoch 17 : loss 2.2408671 ; accuracy 0.15611666\n",
      "epoch 18 : loss 2.2300138 ; accuracy 0.16055\n",
      "epoch 19 : loss 2.219405 ; accuracy 0.16481666\n",
      "epoch 20 : loss 2.2090251 ; accuracy 0.16901666\n",
      "epoch 21 : loss 2.1988595 ; accuracy 0.17348333\n",
      "epoch 22 : loss 2.1888938 ; accuracy 0.17775\n",
      "epoch 23 : loss 2.1791158 ; accuracy 0.18161666\n",
      "epoch 24 : loss 2.1695142 ; accuracy 0.18595\n",
      "epoch 25 : loss 2.160077 ; accuracy 0.19015\n",
      "epoch 26 : loss 2.1507945 ; accuracy 0.19491667\n",
      "epoch 27 : loss 2.1416585 ; accuracy 0.19995\n",
      "epoch 28 : loss 2.1326597 ; accuracy 0.20506667\n",
      "epoch 29 : loss 2.12379 ; accuracy 0.2103\n",
      "epoch 30 : loss 2.1150432 ; accuracy 0.21508333\n",
      "epoch 31 : loss 2.1064131 ; accuracy 0.2198\n",
      "epoch 32 : loss 2.0978944 ; accuracy 0.22471666\n",
      "epoch 33 : loss 2.0894828 ; accuracy 0.22916667\n",
      "epoch 34 : loss 2.0811706 ; accuracy 0.2349\n",
      "epoch 35 : loss 2.0729537 ; accuracy 0.24013333\n",
      "epoch 36 : loss 2.0648267 ; accuracy 0.24565\n",
      "epoch 37 : loss 2.0567853 ; accuracy 0.25073335\n",
      "epoch 38 : loss 2.0488253 ; accuracy 0.25688332\n",
      "epoch 39 : loss 2.0409439 ; accuracy 0.26276666\n",
      "epoch 40 : loss 2.0331364 ; accuracy 0.26838332\n",
      "epoch 41 : loss 2.0253997 ; accuracy 0.27371666\n",
      "epoch 42 : loss 2.0177312 ; accuracy 0.28025\n",
      "epoch 43 : loss 2.0101283 ; accuracy 0.28608334\n",
      "epoch 44 : loss 2.0025885 ; accuracy 0.2919\n",
      "epoch 45 : loss 1.9951077 ; accuracy 0.29918334\n",
      "epoch 46 : loss 1.9876848 ; accuracy 0.30506667\n",
      "epoch 47 : loss 1.9803193 ; accuracy 0.31151667\n",
      "epoch 48 : loss 1.973008 ; accuracy 0.31765\n",
      "epoch 49 : loss 1.9657484 ; accuracy 0.32361665\n",
      "test loss 1.9589434 ; accuracy 0.3258\n"
     ]
    }
   ],
   "source": [
    "train_data, test_data = mnist_dataset()\n",
    "for epoch in range(50):\n",
    "    loss, accuracy = train_one_step(model, optimizer, \n",
    "                                    tf.constant(train_data[0], dtype=tf.float32), \n",
    "                                    tf.constant(train_data[1], dtype=tf.int64))\n",
    "    print('epoch', epoch, ': loss', loss.numpy(), '; accuracy', accuracy.numpy())\n",
    "loss, accuracy = test(model, \n",
    "                      tf.constant(test_data[0], dtype=tf.float32), \n",
    "                      tf.constant(test_data[1], dtype=tf.int64))\n",
    "\n",
    "print('test loss', loss.numpy(), '; accuracy', accuracy.numpy())"
   ]
  },
  {
   "cell_type": "markdown",
   "metadata": {},
   "source": [
    "可以发现如果仅仅使用一个隐藏层的很简单的模型的话训练50个epoch的效果并不理想"
   ]
  }
 ],
 "metadata": {
  "kernelspec": {
   "display_name": "tf2.0",
   "language": "python",
   "name": "python3"
  },
  "language_info": {
   "codemirror_mode": {
    "name": "ipython",
    "version": 3
   },
   "file_extension": ".py",
   "mimetype": "text/x-python",
   "name": "python",
   "nbconvert_exporter": "python",
   "pygments_lexer": "ipython3",
   "version": "3.7.12"
  }
 },
 "nbformat": 4,
 "nbformat_minor": 2
}
