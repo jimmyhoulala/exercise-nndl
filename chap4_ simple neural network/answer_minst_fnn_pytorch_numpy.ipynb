{
 "cells": [
  {
   "cell_type": "markdown",
   "metadata": {},
   "source": [
    "在此笔记本中，我们将对原来提供的tensorflow框架下numpy实现前馈神经网络的tutorial_minist_fnn-numpy-exercise.ipynb文件进行简单的修改，改为pytorch框架。实现的方法和代码形式尽可能与原代码相近。"
   ]
  },
  {
   "cell_type": "markdown",
   "metadata": {},
   "source": [
    "环境：python 3.9.21, pytorch 2.0.0, CUDA 11.8"
   ]
  },
  {
   "cell_type": "markdown",
   "metadata": {},
   "source": [
    "## Data Preparation"
   ]
  },
  {
   "cell_type": "code",
   "execution_count": 1,
   "metadata": {},
   "outputs": [],
   "source": [
    "import numpy as np\n",
    "from torchvision import datasets, transforms\n",
    "\n",
    "def mnist_dataset():\n",
    "    transform = transforms.ToTensor()\n",
    "\n",
    "    train_data = datasets.MNIST(root='./data', train=True, download=True, transform=transform)\n",
    "    test_data = datasets.MNIST(root='./data', train=False, download=True, transform=transform)\n",
    "\n",
    "    #normalize\n",
    "    x = train_data.data.numpy().astype(np.float32) / 255.0  #形状(60000, 28, 28)\n",
    "    y = train_data.targets.numpy()\n",
    "\n",
    "    x_test = test_data.data.numpy().astype(np.float32) / 255.0\n",
    "    y_test = test_data.targets.numpy()\n",
    "\n",
    "    return (x, y), (x_test, y_test)"
   ]
  },
  {
   "cell_type": "markdown",
   "metadata": {},
   "source": [
    "## Demo numpy based auto differentiation"
   ]
  },
  {
   "cell_type": "code",
   "execution_count": 2,
   "metadata": {},
   "outputs": [],
   "source": [
    "class Matmul:\n",
    "    def __init__(self):\n",
    "        self.mem = {}\n",
    "        \n",
    "    def forward(self, x, W):\n",
    "        h = np.matmul(x, W)\n",
    "        self.mem={'x': x, 'W': W}\n",
    "        return h\n",
    "    \n",
    "    def backward(self, grad_y):\n",
    "        '''\n",
    "        x: shape(N, d)\n",
    "        w: shape(d, d')\n",
    "        grad_y: shape(N, d')\n",
    "        '''\n",
    "        x = self.mem['x']\n",
    "        W = self.mem['W']\n",
    "        \n",
    "        ####################\n",
    "        '''计算矩阵乘法的对应的梯度'''\n",
    "        ####################\n",
    "        grad_x = np.matmul(grad_y, W.T)\n",
    "        grad_W = np.matmul(x.T, grad_y)\n",
    "\n",
    "        return grad_x, grad_W\n",
    "\n",
    "\n",
    "class Relu:\n",
    "    def __init__(self):\n",
    "        self.mem = {}\n",
    "        \n",
    "    def forward(self, x):\n",
    "        self.mem['x']=x\n",
    "        return np.where(x > 0, x, np.zeros_like(x))\n",
    "    \n",
    "    def backward(self, grad_y):\n",
    "        '''\n",
    "        grad_y: same shape as x\n",
    "        '''\n",
    "        ####################\n",
    "        '''计算relu 激活函数对应的梯度'''\n",
    "        ####################\n",
    "        x = self.mem['x']\n",
    "        grad_x = grad_y * (x > 0).astype(np.float32)\n",
    "        return grad_x\n",
    "    \n",
    "\n",
    "\n",
    "class Softmax:\n",
    "    '''\n",
    "    softmax over last dimention\n",
    "    '''\n",
    "    def __init__(self):\n",
    "        self.epsilon = 1e-12\n",
    "        self.mem = {}\n",
    "        \n",
    "    def forward(self, x):\n",
    "        '''\n",
    "        x: shape(N, c)\n",
    "        '''\n",
    "        x_exp = np.exp(x)\n",
    "        partition = np.sum(x_exp, axis=1, keepdims=True)\n",
    "        out = x_exp/(partition+self.epsilon)\n",
    "        \n",
    "        self.mem['out'] = out\n",
    "        self.mem['x_exp'] = x_exp\n",
    "        return out\n",
    "    \n",
    "    def backward(self, grad_y):\n",
    "        '''\n",
    "        grad_y: same shape as x\n",
    "        '''\n",
    "        s = self.mem['out']\n",
    "        sisj = np.matmul(np.expand_dims(s,axis=2), np.expand_dims(s, axis=1)) # (N, c, c)\n",
    "        g_y_exp = np.expand_dims(grad_y, axis=1)\n",
    "        tmp = np.matmul(g_y_exp, sisj) #(N, 1, c)\n",
    "        tmp = np.squeeze(tmp, axis=1)\n",
    "        tmp = -tmp+grad_y*s \n",
    "        return tmp\n",
    "    \n",
    "class Log:\n",
    "    '''\n",
    "    softmax over last dimention\n",
    "    '''\n",
    "    def __init__(self):\n",
    "        self.epsilon = 1e-12\n",
    "        self.mem = {}\n",
    "        \n",
    "    def forward(self, x):\n",
    "        '''\n",
    "        x: shape(N, c)\n",
    "        '''\n",
    "        out = np.log(x+self.epsilon)\n",
    "        \n",
    "        self.mem['x'] = x\n",
    "        return out\n",
    "    \n",
    "    def backward(self, grad_y):\n",
    "        '''\n",
    "        grad_y: same shape as x\n",
    "        '''\n",
    "        x = self.mem['x']\n",
    "        \n",
    "        return 1./(x+1e-12) * grad_y"
   ]
  },
  {
   "cell_type": "markdown",
   "metadata": {},
   "source": [
    "## Gradient check"
   ]
  },
  {
   "cell_type": "markdown",
   "metadata": {},
   "source": [
    "在这一部分，我们将使用pytorch框架来检查我们的numpy计算结果是否正确"
   ]
  },
  {
   "cell_type": "markdown",
   "metadata": {},
   "source": [
    "### Matmul"
   ]
  },
  {
   "cell_type": "code",
   "execution_count": 3,
   "metadata": {},
   "outputs": [
    {
     "name": "stdout",
     "output_type": "stream",
     "text": [
      "NumPy backward: [[-0.45607203 -2.1363819  -1.7792773  -0.06573141  2.3203516   1.1278021 ]\n",
      " [-0.45607203 -2.1363819  -1.7792773  -0.06573141  2.3203516   1.1278021 ]\n",
      " [-0.45607203 -2.1363819  -1.7792773  -0.06573141  2.3203516   1.1278021 ]\n",
      " [-0.45607203 -2.1363819  -1.7792773  -0.06573141  2.3203516   1.1278021 ]\n",
      " [-0.45607203 -2.1363819  -1.7792773  -0.06573141  2.3203516   1.1278021 ]]\n",
      "PyTorch grad x: [[-0.45607203 -2.1363819  -1.7792772  -0.06573141  2.3203516   1.1278021 ]\n",
      " [-0.45607203 -2.1363819  -1.7792772  -0.06573141  2.3203516   1.1278021 ]\n",
      " [-0.45607203 -2.1363819  -1.7792772  -0.06573141  2.3203516   1.1278021 ]\n",
      " [-0.45607203 -2.1363819  -1.7792772  -0.06573141  2.3203516   1.1278021 ]\n",
      " [-0.45607203 -2.1363819  -1.7792772  -0.06573141  2.3203516   1.1278021 ]]\n"
     ]
    }
   ],
   "source": [
    "import torch\n",
    "\n",
    "x = np.random.normal(size=[5, 6]).astype(np.float32)\n",
    "W = np.random.normal(size=[6, 4]).astype(np.float32)\n",
    "\n",
    "#Numpy\n",
    "aa = Matmul()\n",
    "out = aa.forward(x, W)\n",
    "grad = aa.backward(np.ones_like(out))\n",
    "print(\"NumPy backward:\", grad[0])\n",
    "\n",
    "#PyTorch\n",
    "x_torch = torch.tensor(x, requires_grad=True)\n",
    "W_torch = torch.tensor(W, requires_grad=True)\n",
    "\n",
    "y = torch.matmul(x_torch, W_torch)\n",
    "loss = y.sum()\n",
    "loss.backward()\n",
    "\n",
    "print(\"PyTorch grad x:\", x_torch.grad.numpy())"
   ]
  },
  {
   "cell_type": "markdown",
   "metadata": {},
   "source": [
    "### ReLU"
   ]
  },
  {
   "cell_type": "code",
   "execution_count": 4,
   "metadata": {},
   "outputs": [
    {
     "name": "stdout",
     "output_type": "stream",
     "text": [
      "NumPy backward: [[1. 1. 0. 0. 1. 0.]\n",
      " [1. 1. 0. 1. 0. 1.]\n",
      " [1. 0. 1. 1. 0. 0.]\n",
      " [1. 1. 0. 1. 1. 1.]\n",
      " [1. 0. 0. 0. 0. 0.]]\n",
      "PyTorch grad x: [[1. 1. 0. 0. 1. 0.]\n",
      " [1. 1. 0. 1. 0. 1.]\n",
      " [1. 0. 1. 1. 0. 0.]\n",
      " [1. 1. 0. 1. 1. 1.]\n",
      " [1. 0. 0. 0. 0. 0.]]\n"
     ]
    }
   ],
   "source": [
    "x = np.random.normal(size=[5, 6]).astype(np.float32)\n",
    "\n",
    "#NumPy\n",
    "aa = Relu()\n",
    "out = aa.forward(x)\n",
    "grad = aa.backward(np.ones_like(out))\n",
    "print(\"NumPy backward:\", grad)\n",
    "\n",
    "#PyTorch\n",
    "x_torch = torch.tensor(x, requires_grad=True)\n",
    "y = torch.nn.functional.relu(x_torch)\n",
    "loss = y.sum()\n",
    "loss.backward()\n",
    "print(\"PyTorch grad x:\", x_torch.grad.numpy())\n"
   ]
  },
  {
   "cell_type": "markdown",
   "metadata": {},
   "source": [
    "### Softmax"
   ]
  },
  {
   "cell_type": "code",
   "execution_count": 5,
   "metadata": {},
   "outputs": [
    {
     "name": "stdout",
     "output_type": "stream",
     "text": [
      "Label:\n",
      " [[0. 1. 0. 0. 0. 0.]\n",
      " [1. 1. 0. 0. 0. 0.]\n",
      " [0. 0. 0. 1. 0. 0.]\n",
      " [0. 0. 0. 0. 0. 1.]\n",
      " [1. 0. 0. 0. 0. 0.]]\n",
      "NumPy backward:\n",
      " [[-2.1389827e-08  3.4520195e-05 -2.4974264e-05 -6.2897861e-06\n",
      "  -3.3625986e-07 -2.8984966e-06]\n",
      " [ 7.3657334e-02  3.0794363e-03 -2.8492774e-08 -2.7063288e-04\n",
      "  -5.6033173e-10 -7.6466113e-02]\n",
      " [-3.1466282e-04 -7.5810052e-02 -2.9963639e-04  7.6425523e-02\n",
      "  -5.4997638e-09 -1.1705509e-06]\n",
      " [-3.1959944e-06 -1.3568686e-01 -1.0404501e-06 -1.3019294e-07\n",
      "  -3.3106278e-09  1.3569123e-01]\n",
      " [ 1.9025691e-05 -2.5172149e-09 -1.2155481e-05 -4.9309087e-06\n",
      "  -1.5866855e-11 -1.9367687e-06]]\n",
      "PyTorch grad x:\n",
      " [[-2.1389827e-08  3.4520202e-05 -2.4974268e-05 -6.2897884e-06\n",
      "  -3.3625992e-07 -2.8984973e-06]\n",
      " [ 7.3657334e-02  3.0794370e-03 -2.8492778e-08 -2.7063285e-04\n",
      "  -5.6033173e-10 -7.6466113e-02]\n",
      " [-3.1466270e-04 -7.5810038e-02 -2.9963622e-04  7.6425515e-02\n",
      "  -5.4997567e-09 -1.1705499e-06]\n",
      " [-3.1959935e-06 -1.3568686e-01 -1.0404498e-06 -1.3019292e-07\n",
      "  -3.3106269e-09  1.3569123e-01]\n",
      " [ 1.9025680e-05 -2.5172147e-09 -1.2155473e-05 -4.9309056e-06\n",
      "  -1.5866836e-11 -1.9367678e-06]]\n"
     ]
    }
   ],
   "source": [
    "x = np.random.normal(size=[5, 6], scale=5.0, loc=1).astype(np.float32)\n",
    "label = np.zeros_like(x)\n",
    "label[0, 1] = 1.\n",
    "label[1, 0] = 1\n",
    "label[1, 1] = 1\n",
    "label[2, 3] = 1\n",
    "label[3, 5] = 1\n",
    "label[4, 0] = 1\n",
    "print(\"Label:\\n\", label)\n",
    "\n",
    "# NumPy\n",
    "aa = Softmax()\n",
    "out = aa.forward(x)\n",
    "grad = aa.backward(label)\n",
    "print(\"NumPy backward:\\n\", grad)\n",
    "\n",
    "# PyTorch\n",
    "x_torch = torch.tensor(x, requires_grad=True)\n",
    "label_torch = torch.tensor(label)\n",
    "\n",
    "y = torch.nn.functional.softmax(x_torch, dim=1)\n",
    "loss = (y * label_torch).sum()\n",
    "loss.backward()\n",
    "\n",
    "print(\"PyTorch grad x:\\n\", x_torch.grad.numpy())"
   ]
  },
  {
   "cell_type": "markdown",
   "metadata": {},
   "source": [
    "### Log"
   ]
  },
  {
   "cell_type": "code",
   "execution_count": 6,
   "metadata": {},
   "outputs": [
    {
     "name": "stdout",
     "output_type": "stream",
     "text": [
      "NumPy backward:\n",
      " [[0.        1.1788638 0.        0.        0.        0.       ]\n",
      " [1.0030893 1.7262231 0.        0.        0.        0.       ]\n",
      " [0.        0.        0.        1.0950545 0.        0.       ]\n",
      " [0.        0.        0.        0.        0.        2.039355 ]\n",
      " [1.4992834 0.        0.        0.        0.        0.       ]]\n",
      "PyTorch grad x:\n",
      " [[0.        1.1788638 0.        0.        0.        0.       ]\n",
      " [1.0030893 1.7262231 0.        0.        0.        0.       ]\n",
      " [0.        0.        0.        1.0950545 0.        0.       ]\n",
      " [0.        0.        0.        0.        0.        2.039355 ]\n",
      " [1.4992834 0.        0.        0.        0.        0.       ]]\n"
     ]
    }
   ],
   "source": [
    "x = np.random.uniform(low=0.1, high=1.0, size=[5, 6]).astype(np.float32)\n",
    "\n",
    "# NumPy\n",
    "aa = Log()\n",
    "out = aa.forward(x)\n",
    "grad = aa.backward(label)\n",
    "print(\"NumPy backward:\\n\", grad)\n",
    "\n",
    "# PyTorch\n",
    "x_torch = torch.tensor(x, requires_grad=True)\n",
    "label_torch = torch.tensor(label)\n",
    "\n",
    "y = torch.log(x_torch)\n",
    "loss = (y * label_torch).sum()\n",
    "loss.backward()\n",
    "\n",
    "print(\"PyTorch grad x:\\n\", x_torch.grad.numpy())"
   ]
  },
  {
   "cell_type": "markdown",
   "metadata": {},
   "source": [
    "## Final Gradient Check"
   ]
  },
  {
   "cell_type": "code",
   "execution_count": 7,
   "metadata": {},
   "outputs": [
    {
     "name": "stdout",
     "output_type": "stream",
     "text": [
      "----------------------------------------\n",
      "W1 grad match: True\n",
      "W2 grad match: True\n",
      "x grad match: True\n"
     ]
    }
   ],
   "source": [
    "x = np.random.normal(size=[5, 6]).astype(np.float32)\n",
    "W1 = np.random.normal(size=[6, 5]).astype(np.float32)\n",
    "W2 = np.random.normal(size=[5, 6]).astype(np.float32)\n",
    "\n",
    "label = np.zeros_like(x, dtype=np.float32)\n",
    "label[0, 1] = 1.\n",
    "label[1, 0] = 1\n",
    "label[2, 3] = 1\n",
    "label[3, 5] = 1\n",
    "label[4, 0] = 1\n",
    "\n",
    "mul_h1 = Matmul()\n",
    "mul_h2 = Matmul()\n",
    "relu = Relu()\n",
    "softmax = Softmax()\n",
    "log = Log()\n",
    "\n",
    "h1 = mul_h1.forward(x, W1)\n",
    "h1_relu = relu.forward(h1)\n",
    "h2 = mul_h2.forward(h1_relu, W2)\n",
    "h2_soft = softmax.forward(h2)\n",
    "h2_log = log.forward(h2_soft)\n",
    "\n",
    "h2_log_grad = log.backward(label)\n",
    "h2_soft_grad = softmax.backward(h2_log_grad)\n",
    "h2_grad, W2_grad = mul_h2.backward(h2_soft_grad)\n",
    "h1_relu_grad = relu.backward(h2_grad)\n",
    "h1_grad, W1_grad = mul_h1.backward(h1_relu_grad)\n",
    "\n",
    "#print(\"NumPy grad W1:\\n\", W1_grad)\n",
    "#print(\"NumPy grad W2:\\n\", W2_grad)\n",
    "#print(\"NumPy grad x:\\n\", h1_grad)\n",
    "\n",
    "print('--' * 20)\n",
    "\n",
    "x_torch = torch.tensor(x, requires_grad=True)\n",
    "W1_torch = torch.tensor(W1, requires_grad=True)\n",
    "W2_torch = torch.tensor(W2, requires_grad=True)\n",
    "label_torch = torch.tensor(label)\n",
    "\n",
    "with torch.autograd.set_grad_enabled(True):\n",
    "    h1 = torch.matmul(x_torch, W1_torch)\n",
    "    h1_relu = torch.relu(h1)\n",
    "    h2 = torch.matmul(h1_relu, W2_torch)\n",
    "    prob = torch.softmax(h2, dim=1)\n",
    "    log_prob = torch.log(prob + 1e-12)\n",
    "    loss = torch.sum(label_torch * log_prob)\n",
    "\n",
    "    loss.backward()\n",
    "\n",
    "#print(\"PyTorch grad W1:\\n\", W1_torch.grad.numpy())\n",
    "#print(\"PyTorch grad W2:\\n\", W2_torch.grad.numpy())\n",
    "#print(\"PyTorch grad x:\\n\", x_torch.grad.numpy())\n",
    "\n",
    "#进行对比\n",
    "def compare_numpy_pytorch(np_grad, torch_grad, tol=1e-5):\n",
    "    return np.allclose(np_grad, torch_grad, atol=tol)\n",
    "\n",
    "print(\"W1 grad match:\", compare_numpy_pytorch(W1_grad, W1_torch.grad.numpy()))\n",
    "print(\"W2 grad match:\", compare_numpy_pytorch(W2_grad, W2_torch.grad.numpy()))\n",
    "print(\"x grad match:\", compare_numpy_pytorch(h1_grad, x_torch.grad.numpy()))"
   ]
  },
  {
   "cell_type": "markdown",
   "metadata": {},
   "source": [
    "## Setup Model"
   ]
  },
  {
   "cell_type": "code",
   "execution_count": 8,
   "metadata": {},
   "outputs": [],
   "source": [
    "class myModel:\n",
    "    def __init__(self):\n",
    "        \n",
    "        self.W1 = np.random.normal(size=[28*28+1, 100])\n",
    "        self.W2 = np.random.normal(size=[100, 10])\n",
    "        \n",
    "        self.mul_h1 = Matmul()\n",
    "        self.mul_h2 = Matmul()\n",
    "        self.relu = Relu()\n",
    "        self.softmax = Softmax()\n",
    "        self.log = Log()\n",
    "        \n",
    "        \n",
    "    def forward(self, x):\n",
    "        x = x.reshape(-1, 28*28)\n",
    "        bias = np.ones(shape=[x.shape[0], 1])\n",
    "        x = np.concatenate([x, bias], axis=1)\n",
    "        \n",
    "        self.h1 = self.mul_h1.forward(x, self.W1) # shape(5, 4)\n",
    "        self.h1_relu = self.relu.forward(self.h1)\n",
    "        self.h2 = self.mul_h2.forward(self.h1_relu, self.W2)\n",
    "        self.h2_soft = self.softmax.forward(self.h2)\n",
    "        self.h2_log = self.log.forward(self.h2_soft)\n",
    "            \n",
    "    def backward(self, label):\n",
    "        self.h2_log_grad = self.log.backward(-label)\n",
    "        self.h2_soft_grad = self.softmax.backward(self.h2_log_grad)\n",
    "        self.h2_grad, self.W2_grad = self.mul_h2.backward(self.h2_soft_grad)\n",
    "        self.h1_relu_grad = self.relu.backward(self.h2_grad)\n",
    "        self.h1_grad, self.W1_grad = self.mul_h1.backward(self.h1_relu_grad)\n",
    "        \n",
    "model = myModel()\n"
   ]
  },
  {
   "cell_type": "markdown",
   "metadata": {},
   "source": [
    "## Calculate Loss"
   ]
  },
  {
   "cell_type": "code",
   "execution_count": 9,
   "metadata": {},
   "outputs": [],
   "source": [
    "def compute_loss(log_prob, labels):\n",
    "     return np.mean(np.sum(-log_prob*labels, axis=1))\n",
    "    \n",
    "\n",
    "def compute_accuracy(log_prob, labels):\n",
    "    predictions = np.argmax(log_prob, axis=1)\n",
    "    truth = np.argmax(labels, axis=1)\n",
    "    return np.mean(predictions==truth)\n",
    "\n",
    "def train_one_step(model, x, y):\n",
    "    model.forward(x)\n",
    "    model.backward(y)\n",
    "    model.W1 -= 1e-5* model.W1_grad\n",
    "    model.W2 -= 1e-5* model.W2_grad\n",
    "    loss = compute_loss(model.h2_log, y)\n",
    "    accuracy = compute_accuracy(model.h2_log, y)\n",
    "    return loss, accuracy\n",
    "\n",
    "def test(model, x, y):\n",
    "    model.forward(x)\n",
    "    loss = compute_loss(model.h2_log, y)\n",
    "    accuracy = compute_accuracy(model.h2_log, y)\n",
    "    return loss, accuracy"
   ]
  },
  {
   "cell_type": "markdown",
   "metadata": {},
   "source": [
    "## Train"
   ]
  },
  {
   "cell_type": "code",
   "execution_count": 10,
   "metadata": {},
   "outputs": [
    {
     "name": "stdout",
     "output_type": "stream",
     "text": [
      "Downloading http://yann.lecun.com/exdb/mnist/train-images-idx3-ubyte.gz\n",
      "Failed to download (trying next):\n",
      "HTTP Error 404: Not Found\n",
      "\n",
      "Downloading https://ossci-datasets.s3.amazonaws.com/mnist/train-images-idx3-ubyte.gz\n",
      "Downloading https://ossci-datasets.s3.amazonaws.com/mnist/train-images-idx3-ubyte.gz to ./data\\MNIST\\raw\\train-images-idx3-ubyte.gz\n"
     ]
    },
    {
     "name": "stderr",
     "output_type": "stream",
     "text": [
      "100.0%\n"
     ]
    },
    {
     "name": "stdout",
     "output_type": "stream",
     "text": [
      "Extracting ./data\\MNIST\\raw\\train-images-idx3-ubyte.gz to ./data\\MNIST\\raw\n",
      "\n",
      "Downloading http://yann.lecun.com/exdb/mnist/train-labels-idx1-ubyte.gz\n",
      "Failed to download (trying next):\n",
      "HTTP Error 404: Not Found\n",
      "\n",
      "Downloading https://ossci-datasets.s3.amazonaws.com/mnist/train-labels-idx1-ubyte.gz\n",
      "Downloading https://ossci-datasets.s3.amazonaws.com/mnist/train-labels-idx1-ubyte.gz to ./data\\MNIST\\raw\\train-labels-idx1-ubyte.gz\n"
     ]
    },
    {
     "name": "stderr",
     "output_type": "stream",
     "text": [
      "100.0%\n"
     ]
    },
    {
     "name": "stdout",
     "output_type": "stream",
     "text": [
      "Extracting ./data\\MNIST\\raw\\train-labels-idx1-ubyte.gz to ./data\\MNIST\\raw\n",
      "\n",
      "Downloading http://yann.lecun.com/exdb/mnist/t10k-images-idx3-ubyte.gz\n",
      "Failed to download (trying next):\n",
      "HTTP Error 404: Not Found\n",
      "\n",
      "Downloading https://ossci-datasets.s3.amazonaws.com/mnist/t10k-images-idx3-ubyte.gz\n",
      "Downloading https://ossci-datasets.s3.amazonaws.com/mnist/t10k-images-idx3-ubyte.gz to ./data\\MNIST\\raw\\t10k-images-idx3-ubyte.gz\n"
     ]
    },
    {
     "name": "stderr",
     "output_type": "stream",
     "text": [
      "100.0%\n"
     ]
    },
    {
     "name": "stdout",
     "output_type": "stream",
     "text": [
      "Extracting ./data\\MNIST\\raw\\t10k-images-idx3-ubyte.gz to ./data\\MNIST\\raw\n",
      "\n",
      "Downloading http://yann.lecun.com/exdb/mnist/t10k-labels-idx1-ubyte.gz\n",
      "Failed to download (trying next):\n",
      "HTTP Error 404: Not Found\n",
      "\n",
      "Downloading https://ossci-datasets.s3.amazonaws.com/mnist/t10k-labels-idx1-ubyte.gz\n",
      "Downloading https://ossci-datasets.s3.amazonaws.com/mnist/t10k-labels-idx1-ubyte.gz to ./data\\MNIST\\raw\\t10k-labels-idx1-ubyte.gz\n"
     ]
    },
    {
     "name": "stderr",
     "output_type": "stream",
     "text": [
      "100.0%\n"
     ]
    },
    {
     "name": "stdout",
     "output_type": "stream",
     "text": [
      "Extracting ./data\\MNIST\\raw\\t10k-labels-idx1-ubyte.gz to ./data\\MNIST\\raw\n",
      "\n",
      "epoch 0 : loss 25.07529562208099 ; accuracy 0.0532\n",
      "epoch 1 : loss 23.546406583857838 ; accuracy 0.10006666666666666\n",
      "epoch 2 : loss 22.244975015471027 ; accuracy 0.15436666666666668\n",
      "epoch 3 : loss 21.10062362819336 ; accuracy 0.18028333333333332\n",
      "epoch 4 : loss 19.61581548155453 ; accuracy 0.21685\n",
      "epoch 5 : loss 17.123079843926767 ; accuracy 0.29435\n",
      "epoch 6 : loss 15.22914206470931 ; accuracy 0.3670333333333333\n",
      "epoch 7 : loss 13.919294499803174 ; accuracy 0.41823333333333335\n",
      "epoch 8 : loss 12.976987604760408 ; accuracy 0.4532333333333333\n",
      "epoch 9 : loss 12.142250591706368 ; accuracy 0.48135\n",
      "epoch 10 : loss 11.374820719240628 ; accuracy 0.5088166666666667\n",
      "epoch 11 : loss 10.63563835985899 ; accuracy 0.5333833333333333\n",
      "epoch 12 : loss 9.92838713988776 ; accuracy 0.5600666666666667\n",
      "epoch 13 : loss 9.351579870154616 ; accuracy 0.58135\n",
      "epoch 14 : loss 8.89253089440596 ; accuracy 0.60305\n",
      "epoch 15 : loss 8.722740528482035 ; accuracy 0.6063333333333333\n",
      "epoch 16 : loss 8.387294269009587 ; accuracy 0.62725\n",
      "epoch 17 : loss 8.270579740785058 ; accuracy 0.6256666666666667\n",
      "epoch 18 : loss 7.726089506718062 ; accuracy 0.65385\n",
      "epoch 19 : loss 7.480250378330838 ; accuracy 0.6569166666666667\n",
      "epoch 20 : loss 7.291892144337942 ; accuracy 0.6723166666666667\n",
      "epoch 21 : loss 7.125138298008108 ; accuracy 0.67265\n",
      "epoch 22 : loss 6.880001992550303 ; accuracy 0.69\n",
      "epoch 23 : loss 6.604357902073622 ; accuracy 0.6939\n",
      "epoch 24 : loss 6.4528409858108 ; accuracy 0.7067\n",
      "epoch 25 : loss 6.244336648491452 ; accuracy 0.70965\n",
      "epoch 26 : loss 6.133597887431086 ; accuracy 0.7193666666666667\n",
      "epoch 27 : loss 5.92284003449532 ; accuracy 0.7228833333333333\n",
      "epoch 28 : loss 5.823372458438825 ; accuracy 0.7314666666666667\n",
      "epoch 29 : loss 5.611185020653794 ; accuracy 0.7352\n",
      "epoch 30 : loss 5.517393676321079 ; accuracy 0.7429666666666667\n",
      "epoch 31 : loss 5.338930236834385 ; accuracy 0.7462833333333333\n",
      "epoch 32 : loss 5.263971604238294 ; accuracy 0.7520333333333333\n",
      "epoch 33 : loss 5.127241929170662 ; accuracy 0.7542333333333333\n",
      "epoch 34 : loss 5.068852545846841 ; accuracy 0.7585666666666666\n",
      "epoch 35 : loss 4.924392583155989 ; accuracy 0.7611666666666667\n",
      "epoch 36 : loss 4.853611229496346 ; accuracy 0.7659333333333334\n",
      "epoch 37 : loss 4.695692256702317 ; accuracy 0.7694333333333333\n",
      "epoch 38 : loss 4.617388284427401 ; accuracy 0.7744333333333333\n",
      "epoch 39 : loss 4.460642884567874 ; accuracy 0.77835\n",
      "epoch 40 : loss 4.379602839421496 ; accuracy 0.78345\n",
      "epoch 41 : loss 4.229219226898567 ; accuracy 0.7876\n",
      "epoch 42 : loss 4.149631566424262 ; accuracy 0.7930333333333334\n",
      "epoch 43 : loss 4.029019523601737 ; accuracy 0.7955333333333333\n",
      "epoch 44 : loss 3.9570886006483934 ; accuracy 0.8015166666666667\n",
      "epoch 45 : loss 3.8582633671611286 ; accuracy 0.8029833333333334\n",
      "epoch 46 : loss 3.787997788983755 ; accuracy 0.8082166666666667\n",
      "epoch 47 : loss 3.7122999853696763 ; accuracy 0.8091166666666667\n",
      "epoch 48 : loss 3.6466652058819147 ; accuracy 0.8136666666666666\n",
      "epoch 49 : loss 3.5750676508662833 ; accuracy 0.8146\n",
      "epoch 50 : loss 3.515878640119858 ; accuracy 0.8190833333333334\n",
      "epoch 51 : loss 3.4515582781573877 ; accuracy 0.8204166666666667\n",
      "epoch 52 : loss 3.4026716960713532 ; accuracy 0.82375\n",
      "epoch 53 : loss 3.3421799896219033 ; accuracy 0.8253\n",
      "epoch 54 : loss 3.2956956192856697 ; accuracy 0.8286666666666667\n",
      "epoch 55 : loss 3.2432457955063936 ; accuracy 0.8292\n",
      "epoch 56 : loss 3.1991392976891584 ; accuracy 0.83215\n",
      "epoch 57 : loss 3.1521778717132816 ; accuracy 0.8330166666666666\n",
      "epoch 58 : loss 3.1119541067914134 ; accuracy 0.8357166666666667\n",
      "epoch 59 : loss 3.071059350600089 ; accuracy 0.8368833333333333\n",
      "epoch 60 : loss 3.0352239287081018 ; accuracy 0.8393166666666667\n",
      "epoch 61 : loss 2.998989442365542 ; accuracy 0.8405166666666667\n",
      "epoch 62 : loss 2.9658849902660127 ; accuracy 0.842\n",
      "epoch 63 : loss 2.933529007635574 ; accuracy 0.8432666666666667\n",
      "epoch 64 : loss 2.903147225621328 ; accuracy 0.8447833333333333\n",
      "epoch 65 : loss 2.8738891145527212 ; accuracy 0.8459333333333333\n",
      "epoch 66 : loss 2.8463039595059545 ; accuracy 0.8474\n",
      "epoch 67 : loss 2.8192806565318227 ; accuracy 0.8482666666666666\n",
      "epoch 68 : loss 2.793448969789848 ; accuracy 0.8497666666666667\n",
      "epoch 69 : loss 2.767881107004634 ; accuracy 0.8504833333333334\n",
      "epoch 70 : loss 2.7434976582369366 ; accuracy 0.8518\n",
      "epoch 71 : loss 2.7196755143535594 ; accuracy 0.8528333333333333\n",
      "epoch 72 : loss 2.69679110486247 ; accuracy 0.8542166666666666\n",
      "epoch 73 : loss 2.675189361775297 ; accuracy 0.8542833333333333\n",
      "epoch 74 : loss 2.6537981456293265 ; accuracy 0.8561833333333333\n",
      "epoch 75 : loss 2.6346986647351516 ; accuracy 0.8560833333333333\n",
      "epoch 76 : loss 2.6167931823796655 ; accuracy 0.8580666666666666\n",
      "epoch 77 : loss 2.6012009780524448 ; accuracy 0.85725\n",
      "epoch 78 : loss 2.587340819904159 ; accuracy 0.8587\n",
      "epoch 79 : loss 2.5711529961842747 ; accuracy 0.85815\n",
      "epoch 80 : loss 2.559259145476106 ; accuracy 0.8598333333333333\n",
      "epoch 81 : loss 2.5371368136897043 ; accuracy 0.8593333333333333\n",
      "epoch 82 : loss 2.5257030471850324 ; accuracy 0.8611333333333333\n",
      "epoch 83 : loss 2.49912924471072 ; accuracy 0.8607833333333333\n",
      "epoch 84 : loss 2.487786042378699 ; accuracy 0.8629666666666667\n",
      "epoch 85 : loss 2.461196160974454 ; accuracy 0.8627\n",
      "epoch 86 : loss 2.4499182713758674 ; accuracy 0.8646\n",
      "epoch 87 : loss 2.423978046302612 ; accuracy 0.8641\n",
      "epoch 88 : loss 2.41296416249536 ; accuracy 0.8661666666666666\n",
      "epoch 89 : loss 2.3879867425026178 ; accuracy 0.8656666666666667\n",
      "epoch 90 : loss 2.3775834280271066 ; accuracy 0.8678833333333333\n",
      "epoch 91 : loss 2.3530655971295134 ; accuracy 0.8671\n",
      "epoch 92 : loss 2.3437431616008 ; accuracy 0.8691666666666666\n",
      "epoch 93 : loss 2.3193836230293527 ; accuracy 0.8683333333333333\n",
      "epoch 94 : loss 2.311953079034858 ; accuracy 0.8707\n",
      "epoch 95 : loss 2.287490678602899 ; accuracy 0.8695666666666667\n",
      "epoch 96 : loss 2.2831963656509306 ; accuracy 0.87155\n",
      "epoch 97 : loss 2.2579498027531573 ; accuracy 0.8712833333333333\n",
      "epoch 98 : loss 2.2568284741578557 ; accuracy 0.8725833333333334\n",
      "epoch 99 : loss 2.2303318977808106 ; accuracy 0.87245\n",
      "test loss 2.2575689580131213 ; accuracy 0.8744\n"
     ]
    }
   ],
   "source": [
    "train_data, test_data = mnist_dataset()\n",
    "train_label = np.zeros(shape=[train_data[0].shape[0], 10])\n",
    "test_label = np.zeros(shape=[test_data[0].shape[0], 10])\n",
    "train_label[np.arange(train_data[0].shape[0]), np.array(train_data[1])] = 1.\n",
    "test_label[np.arange(test_data[0].shape[0]), np.array(test_data[1])] = 1.\n",
    "\n",
    "for epoch in range(100):\n",
    "    loss, accuracy = train_one_step(model, train_data[0], train_label)\n",
    "    print('epoch', epoch, ': loss', loss, '; accuracy', accuracy)\n",
    "loss, accuracy = test(model, test_data[0], test_label)\n",
    "\n",
    "print('test loss', loss, '; accuracy', accuracy)"
   ]
  }
 ],
 "metadata": {
  "kernelspec": {
   "display_name": "d2l",
   "language": "python",
   "name": "python3"
  },
  "language_info": {
   "codemirror_mode": {
    "name": "ipython",
    "version": 3
   },
   "file_extension": ".py",
   "mimetype": "text/x-python",
   "name": "python",
   "nbconvert_exporter": "python",
   "pygments_lexer": "ipython3",
   "version": "3.9.21"
  }
 },
 "nbformat": 4,
 "nbformat_minor": 2
}
